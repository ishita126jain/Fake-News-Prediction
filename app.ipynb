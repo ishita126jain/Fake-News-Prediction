{
 "cells": [
  {
   "cell_type": "code",
   "execution_count": null,
   "id": "37dcd0ce",
   "metadata": {},
   "outputs": [],
   "source": [
    "from flask import Flask, render_template, request, jsonify\n",
    "import nltk\n",
    "import pickle\n",
    "from nltk.corpus import stopwords\n",
    "import re\n",
    "from nltk.stem.porter import PorterStemmer\n",
    "app = Flask(__name__)\n",
    "ps = PorterStemmer()\n",
    "# Load model and vectorizer\n",
    "model = pickle.load(open('model2.pkl', 'rb'))\n",
    "tfidfvect = pickle.load(open('tfidfvect2.pkl', 'rb'))\n",
    "# Build functionalities\n",
    "@app.route('/', methods=['GET'])\n",
    "def home():\n",
    "    return render_template('home.html')\n",
    "def predict(text):\n",
    "    review = re.sub('[^a-zA-Z]', ' ', text)\n",
    "    review = review.lower()\n",
    "    review = review.split()\n",
    "    review = [ps.stem(word) for word in review if not word in stopwords.words('english')]\n",
    "    review = ' '.join(review)\n",
    "    review_vect = tfidfvect.transform([review]).toarray()\n",
    "    prediction = 'FAKE' if model.predict(review_vect) == 0 else 'REAL'\n",
    "    return prediction\n",
    "@app.route('/', methods=['POST'])\n",
    "def webapp():\n",
    "    text = request.form['text']\n",
    "    prediction = predict(text)\n",
    "    return render_template('home.html', text=text, result=prediction)\n",
    "@app.route('/predict/', methods=['GET','POST'])\n",
    "def api():\n",
    "    text = request.args.get(\"text\")\n",
    "    prediction = predict(text)\n",
    "    return jsonify(prediction=prediction)\n",
    "if __name__ == \"__main__\":\n",
    "    app.run(debug=True)"
   ]
  },
  {
   "cell_type": "code",
   "execution_count": null,
   "id": "971ec657",
   "metadata": {},
   "outputs": [],
   "source": []
  }
 ],
 "metadata": {
  "kernelspec": {
   "display_name": "Python 3 (ipykernel)",
   "language": "python",
   "name": "python3"
  },
  "language_info": {
   "codemirror_mode": {
    "name": "ipython",
    "version": 3
   },
   "file_extension": ".py",
   "mimetype": "text/x-python",
   "name": "python",
   "nbconvert_exporter": "python",
   "pygments_lexer": "ipython3",
   "version": "3.8.10"
  }
 },
 "nbformat": 4,
 "nbformat_minor": 5
}
